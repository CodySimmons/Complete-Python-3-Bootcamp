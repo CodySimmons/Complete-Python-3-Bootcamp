{
 "cells": [
  {
   "cell_type": "code",
   "execution_count": 1,
   "source": [
    "pwd"
   ],
   "outputs": [
    {
     "output_type": "execute_result",
     "data": {
      "text/plain": [
       "'d:\\\\Documents\\\\Programming\\\\Python\\\\PythonBootCamp\\\\Complete-Python-3-Bootcamp\\\\12-Advanced Python Modules'"
      ]
     },
     "metadata": {},
     "execution_count": 1
    }
   ],
   "metadata": {}
  },
  {
   "cell_type": "code",
   "execution_count": 10,
   "source": [
    "f = open('practice.txt', 'w+')\r\n",
    "f.write(\"This is a text string\")\r\n",
    "f.close()"
   ],
   "outputs": [],
   "metadata": {}
  },
  {
   "cell_type": "code",
   "execution_count": 3,
   "source": [
    "import os"
   ],
   "outputs": [],
   "metadata": {}
  },
  {
   "cell_type": "code",
   "execution_count": 4,
   "source": [
    "os.getcwd()"
   ],
   "outputs": [
    {
     "output_type": "execute_result",
     "data": {
      "text/plain": [
       "'d:\\\\Documents\\\\Programming\\\\Python\\\\PythonBootCamp\\\\Complete-Python-3-Bootcamp\\\\12-Advanced Python Modules'"
      ]
     },
     "metadata": {},
     "execution_count": 4
    }
   ],
   "metadata": {}
  },
  {
   "cell_type": "code",
   "execution_count": 8,
   "source": [
    "os.listdir()"
   ],
   "outputs": [
    {
     "output_type": "execute_result",
     "data": {
      "text/plain": [
       "['.ipynb_checkpoints',\n",
       " '00-Collections-Module.ipynb',\n",
       " '01-Opening-and-Reading-Files-Folders.ipynb',\n",
       " '02-Datetime-Module.ipynb',\n",
       " '03-Math-and-Random-Module.ipynb',\n",
       " '04-Python Debugger (pdb).ipynb',\n",
       " '05-Overview-of-Regular-Expressions.ipynb',\n",
       " '06-Timing your code - timeit.ipynb',\n",
       " '07-Unzipping-and-Zipping-Files.ipynb',\n",
       " '08-Advanced-Python-Module-Exercise',\n",
       " 'Example_Top_Level',\n",
       " 'osfunctions.ipynb',\n",
       " 'practice.txt']"
      ]
     },
     "metadata": {},
     "execution_count": 8
    }
   ],
   "metadata": {}
  },
  {
   "cell_type": "code",
   "execution_count": 6,
   "source": [
    "os.listdir(\"C:\\\\Users\")"
   ],
   "outputs": [
    {
     "output_type": "execute_result",
     "data": {
      "text/plain": [
       "['All Users', 'Default', 'Default User', 'desktop.ini', 'hitob', 'Public']"
      ]
     },
     "metadata": {},
     "execution_count": 6
    }
   ],
   "metadata": {}
  },
  {
   "cell_type": "code",
   "execution_count": 7,
   "source": [
    "import shutil"
   ],
   "outputs": [],
   "metadata": {}
  },
  {
   "cell_type": "code",
   "execution_count": 13,
   "source": [
    "shutil.move('practice.txt', \"C:\\\\Users\\\\hitob\")"
   ],
   "outputs": [
    {
     "output_type": "execute_result",
     "data": {
      "text/plain": [
       "'C:\\\\Users\\\\hitob\\\\practice.txt'"
      ]
     },
     "metadata": {},
     "execution_count": 13
    }
   ],
   "metadata": {}
  },
  {
   "cell_type": "code",
   "execution_count": 15,
   "source": [
    "import send2trash"
   ],
   "outputs": [],
   "metadata": {}
  },
  {
   "cell_type": "code",
   "execution_count": 16,
   "source": [
    "os.listdir()"
   ],
   "outputs": [
    {
     "output_type": "execute_result",
     "data": {
      "text/plain": [
       "['.ipynb_checkpoints',\n",
       " '00-Collections-Module.ipynb',\n",
       " '01-Opening-and-Reading-Files-Folders.ipynb',\n",
       " '02-Datetime-Module.ipynb',\n",
       " '03-Math-and-Random-Module.ipynb',\n",
       " '04-Python Debugger (pdb).ipynb',\n",
       " '05-Overview-of-Regular-Expressions.ipynb',\n",
       " '06-Timing your code - timeit.ipynb',\n",
       " '07-Unzipping-and-Zipping-Files.ipynb',\n",
       " '08-Advanced-Python-Module-Exercise',\n",
       " 'Example_Top_Level',\n",
       " 'osfunctions.ipynb',\n",
       " 'practice.txt']"
      ]
     },
     "metadata": {},
     "execution_count": 16
    }
   ],
   "metadata": {}
  },
  {
   "cell_type": "code",
   "execution_count": 17,
   "source": [
    "send2trash.send2trash('practice.txt')"
   ],
   "outputs": [],
   "metadata": {}
  },
  {
   "cell_type": "code",
   "execution_count": 18,
   "source": [
    "os.getcwd()"
   ],
   "outputs": [
    {
     "output_type": "execute_result",
     "data": {
      "text/plain": [
       "'d:\\\\Documents\\\\Programming\\\\Python\\\\PythonBootCamp\\\\Complete-Python-3-Bootcamp\\\\12-Advanced Python Modules'"
      ]
     },
     "metadata": {},
     "execution_count": 18
    }
   ],
   "metadata": {}
  },
  {
   "cell_type": "code",
   "execution_count": 27,
   "source": [
    "file_path = 'd:\\\\Documents\\\\Programming\\\\Python\\\\PythonBootCamp\\\\Complete-Python-3-Bootcamp\\\\12-Advanced Python Modules'"
   ],
   "outputs": [],
   "metadata": {}
  },
  {
   "cell_type": "code",
   "execution_count": 29,
   "source": [
    "for folder, sub_folders, files in os.walk(\"Example_Top_Level\"):\r\n",
    "    print(f\"Currently looking at {folder}\")\r\n",
    "    print(\"\\n\")\r\n",
    "    print('The subfolders are: ')\r\n",
    "    for sub_fold in sub_folders:\r\n",
    "        print(f\"Subfolder: {sub_fold}\")\r\n",
    "\r\n",
    "    print('\\n')\r\n",
    "    print(\"The files are: \")\r\n",
    "    for f in files:\r\n",
    "        print(f\"\\t File: {f}\")\r\n",
    "    print('\\n')"
   ],
   "outputs": [
    {
     "output_type": "stream",
     "name": "stdout",
     "text": [
      "Currently looking at Example_Top_Level\n",
      "\n",
      "\n",
      "The subfolders are: \n",
      "Subfolder: Mid-Example-One\n",
      "\n",
      "\n",
      "The files are: \n",
      "\t File: Mid-Example.txt\n",
      "\n",
      "\n",
      "Currently looking at Example_Top_Level\\Mid-Example-One\n",
      "\n",
      "\n",
      "The subfolders are: \n",
      "Subfolder: Bottom-Level-One\n",
      "Subfolder: Bottom-Level-Two\n",
      "\n",
      "\n",
      "The files are: \n",
      "\t File: Mid-Level-Doc.txt\n",
      "\n",
      "\n",
      "Currently looking at Example_Top_Level\\Mid-Example-One\\Bottom-Level-One\n",
      "\n",
      "\n",
      "The subfolders are: \n",
      "\n",
      "\n",
      "The files are: \n",
      "\t File: One_Text.txt\n",
      "\n",
      "\n",
      "Currently looking at Example_Top_Level\\Mid-Example-One\\Bottom-Level-Two\n",
      "\n",
      "\n",
      "The subfolders are: \n",
      "\n",
      "\n",
      "The files are: \n",
      "\t File: Bottom-Text-Two.txt\n",
      "\n",
      "\n"
     ]
    }
   ],
   "metadata": {}
  },
  {
   "cell_type": "code",
   "execution_count": null,
   "source": [],
   "outputs": [],
   "metadata": {}
  }
 ],
 "metadata": {
  "orig_nbformat": 4,
  "language_info": {
   "name": "python",
   "version": "3.8.8",
   "mimetype": "text/x-python",
   "codemirror_mode": {
    "name": "ipython",
    "version": 3
   },
   "pygments_lexer": "ipython3",
   "nbconvert_exporter": "python",
   "file_extension": ".py"
  },
  "kernelspec": {
   "name": "python3",
   "display_name": "Python 3.8.8 64-bit ('base': conda)"
  },
  "interpreter": {
   "hash": "b3ba2566441a7c06988d0923437866b63cedc61552a5af99d1f4fb67d367b25f"
  }
 },
 "nbformat": 4,
 "nbformat_minor": 2
}