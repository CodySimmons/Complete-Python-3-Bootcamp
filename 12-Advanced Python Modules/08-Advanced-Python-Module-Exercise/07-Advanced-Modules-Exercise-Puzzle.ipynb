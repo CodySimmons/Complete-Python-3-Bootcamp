{
 "cells": [
  {
   "cell_type": "markdown",
   "source": [
    "___\n",
    "\n",
    "<a href='https://www.udemy.com/user/joseportilla/'><img src='../../Pierian_Data_Logo.png'/></a>\n",
    "___\n",
    "<center><em>Content Copyright by Pierian Data</em></center>"
   ],
   "metadata": {}
  },
  {
   "cell_type": "markdown",
   "source": [],
   "metadata": {}
  },
  {
   "cell_type": "markdown",
   "source": [
    "# Advanced Modules Exercise Puzzle\n",
    "\n",
    "It's time to test your new skills, this puzzle project will combine multiple skills sets, including unzipping files with Python, using os module to automatically search through lots of files.\n",
    "\n",
    "## Your Goal\n",
    "\n",
    "This is a puzzle, so we don't want to give you too much guidance and instead have you figure out things on your own.\n",
    "\n",
    "There is a .zip file called 'unzip_me_for_instructions.zip', unzip it, open the .txt file with Python, read the instructions and see if you can figure out what you need to do!\n",
    "\n",
    "**If you get stuck or don't know where to start, here is a [guide/hints](https://docs.google.com/document/d/1JxydUr4n4fSR0EwwuwT-aHia-yPK6r-oTBuVT2sqheo/edit?usp=sharing)**"
   ],
   "metadata": {}
  },
  {
   "cell_type": "code",
   "execution_count": 8,
   "source": [
    "pwd"
   ],
   "outputs": [
    {
     "output_type": "execute_result",
     "data": {
      "text/plain": [
       "'d:\\\\Documents\\\\Programming\\\\Python\\\\PythonBootCamp\\\\Complete-Python-3-Bootcamp\\\\12-Advanced Python Modules\\\\08-Advanced-Python-Module-Exercise'"
      ]
     },
     "metadata": {},
     "execution_count": 8
    }
   ],
   "metadata": {}
  },
  {
   "cell_type": "markdown",
   "source": [],
   "metadata": {}
  },
  {
   "cell_type": "code",
   "execution_count": 68,
   "source": [
    "import shutil\r\n",
    "import os\r\n",
    "import re"
   ],
   "outputs": [],
   "metadata": {}
  },
  {
   "cell_type": "code",
   "execution_count": 12,
   "source": [
    "shutil.unpack_archive(\"unzip_me_for_instructions.zip\", \"\", 'zip')"
   ],
   "outputs": [],
   "metadata": {}
  },
  {
   "cell_type": "code",
   "execution_count": 74,
   "source": [
    "pattern = r'\\d{3}-\\d{3}-\\d{4}'\r\n",
    "#test = 'file_contents555-555-5555'\r\n",
    "\r\n",
    "def search(file, pattern=r'\\d{3}-\\d{3}-\\d{4}'):\r\n",
    "    f=open(file, 'r')\r\n",
    "    text = f.read()\r\n",
    "    f.close()\r\n",
    "    \r\n",
    "    if re.search(pattern, text):\r\n",
    "        #print(\"A match!\")\r\n",
    "        return re.search(pattern,text)\r\n",
    "    else:\r\n",
    "        return ''\r\n",
    "\r\n"
   ],
   "outputs": [],
   "metadata": {}
  },
  {
   "cell_type": "code",
   "execution_count": 63,
   "source": [
    "'''\r\n",
    "# OLD solution\r\n",
    "results = []\r\n",
    "for folder, sub_folder, files in os.walk(\"extracted_content\"):\r\n",
    "    for file in files:\r\n",
    "        #file_location =  (os.getcwd() + os.sep + folder + os.sep + file)\r\n",
    "        file_location = folder + os.sep + file\r\n",
    "        f = open(file_location, 'r')\r\n",
    "        text = f.read()\r\n",
    "\r\n",
    "        if re.search(pattern, text):\r\n",
    "            results.append(re.search(pattern,text))\r\n",
    "        f.close\r\n",
    "\r\n",
    "for r in results:\r\n",
    "    if r != '':\r\n",
    "        print(r.group())\r\n",
    "'''"
   ],
   "outputs": [
    {
     "output_type": "execute_result",
     "data": {
      "text/plain": [
       "'\\n# OLD solution\\nresults = []\\nfor folder, sub_folder, files in os.walk(\"extracted_content\"):\\n    for file in files:\\n        #file_location =  (os.getcwd() + os.sep + folder + os.sep + file)\\n        file_location = folder + os.sep + file\\n        f = open(file_location, \\'r\\')\\n        text = f.read()\\n\\n        if re.search(pattern, text):\\n            results.append(re.search(pattern,text))\\n        f.close\\n\\nfor r in results:\\n    if r != \\'\\':\\n        print(r.group())\\n'"
      ]
     },
     "metadata": {},
     "execution_count": 63
    }
   ],
   "metadata": {}
  },
  {
   "cell_type": "code",
   "execution_count": 75,
   "source": [
    "results = []\r\n",
    "\r\n",
    "for folder, sub_folder, files in os.walk(\"extracted_content\"):\r\n",
    "    for file in files:\r\n",
    "        file_location = folder + os.sep + file\r\n",
    "        \r\n",
    "        results.append(search(file_location))\r\n",
    "\r\n",
    "for r in results:\r\n",
    "    if r != '':\r\n",
    "        print(r.group())"
   ],
   "outputs": [
    {
     "output_type": "stream",
     "name": "stdout",
     "text": [
      "719-266-2837\n"
     ]
    }
   ],
   "metadata": {}
  },
  {
   "cell_type": "code",
   "execution_count": null,
   "source": [],
   "outputs": [],
   "metadata": {}
  }
 ],
 "metadata": {
  "anaconda-cloud": {},
  "kernelspec": {
   "name": "python3",
   "display_name": "Python 3.8.8 64-bit ('base': conda)"
  },
  "language_info": {
   "codemirror_mode": {
    "name": "ipython",
    "version": 3
   },
   "file_extension": ".py",
   "mimetype": "text/x-python",
   "name": "python",
   "nbconvert_exporter": "python",
   "pygments_lexer": "ipython3",
   "version": "3.8.8"
  },
  "interpreter": {
   "hash": "b3ba2566441a7c06988d0923437866b63cedc61552a5af99d1f4fb67d367b25f"
  }
 },
 "nbformat": 4,
 "nbformat_minor": 2
}