{
 "cells": [
  {
   "cell_type": "markdown",
   "source": [
    "___\n",
    "\n",
    "<a href='https://www.udemy.com/user/joseportilla/'><img src='../Pierian_Data_Logo.png'/></a>\n",
    "___\n",
    "<center><em>Content Copyright by Pierian Data</em></center>"
   ],
   "metadata": {}
  },
  {
   "cell_type": "markdown",
   "source": [
    "# Milestone Project 1: Walkthrough Steps Workbook\n",
    "\n",
    "Below is a set of steps for you to follow to try to create the Tic Tac Toe Milestone Project game!"
   ],
   "metadata": {}
  },
  {
   "cell_type": "markdown",
   "source": [
    "#### Some suggested tools before you get started:\n",
    "To take input from a user:\n",
    "\n",
    "    player1 = input(\"Please pick a marker 'X' or 'O'\")\n",
    "    \n",
    "Note that input() takes in a string. If you need an integer value, use\n",
    "\n",
    "    position = int(input('Please enter a number'))\n",
    "    \n",
    "<br>To clear the screen between moves:\n",
    "\n",
    "    from IPython.display import clear_output\n",
    "    clear_output()\n",
    "    \n",
    "Note that clear_output() will only work in jupyter. To clear the screen in other IDEs, consider:\n",
    "\n",
    "    print('\\n'*100)\n",
    "    \n",
    "This scrolls the previous board up out of view. Now on to the program!"
   ],
   "metadata": {}
  },
  {
   "cell_type": "markdown",
   "source": [
    "**Step 1: Write a function that can print out a board. Set up your board as a list, where each index 1-9 corresponds with a number on a number pad, so you get a 3 by 3 board representation.**"
   ],
   "metadata": {}
  },
  {
   "cell_type": "code",
   "execution_count": 37,
   "source": [
    "from IPython.display import clear_output\r\n",
    "\r\n",
    "def display_board(board):\r\n",
    "    '''\r\n",
    "    game_board = {}\r\n",
    "    game_board['upper_row'] = []\r\n",
    "    game_board['middle_row'] = []\r\n",
    "    game_board['lower_row'] = []\r\n",
    "\r\n",
    "    for cell in range(len(board)):\r\n",
    "        if cell in [7,8,9]:\r\n",
    "            game_board['upper_row'].append(board[cell])\r\n",
    "        if cell in [3, 4, 5]:\r\n",
    "            game_board['middle_row'].append(board[cell])\r\n",
    "        if cell in [1, 2, 3]:\r\n",
    "            game_board['lower_row'].append(board[cell])\r\n",
    "    print (game_board['upper_row'])\r\n",
    "    print (game_board['middle_row'])\r\n",
    "    print (game_board['lower_row'])\r\n",
    "    #print(game_board)\r\n",
    "    '''\r\n",
    "    print(' ', board[7]\r\n",
    "    , ' | ',board[8], ' | ', board[9])\r\n",
    "    print(\"----------------\")\r\n",
    "    print(' ', board[4]\r\n",
    "    , ' | ',board[5], ' | ', board[6])\r\n",
    "    print(\"----------------\")\r\n",
    "    print(' ', board[1]\r\n",
    "    , ' | ',board[2], ' | ', board[3])"
   ],
   "outputs": [],
   "metadata": {
    "collapsed": true
   }
  },
  {
   "cell_type": "markdown",
   "source": [
    "**TEST Step 1:** run your function on a test version of the board list, and make adjustments as necessary"
   ],
   "metadata": {}
  },
  {
   "cell_type": "code",
   "execution_count": 38,
   "source": [
    "test_board = ['#','X','O','X','O','X','O','X','O','X']\r\n",
    "display_board(test_board)"
   ],
   "outputs": [
    {
     "output_type": "stream",
     "name": "stdout",
     "text": [
      "  X  |  O  |  X\n",
      "----------------\n",
      "  O  |  X  |  O\n",
      "----------------\n",
      "  X  |  O  |  X\n"
     ]
    }
   ],
   "metadata": {
    "collapsed": true
   }
  },
  {
   "cell_type": "markdown",
   "source": [
    "**Step 2: Write a function that can take in a player input and assign their marker as 'X' or 'O'. Think about using *while* loops to continually ask until you get a correct answer.**"
   ],
   "metadata": {}
  },
  {
   "cell_type": "code",
   "execution_count": 39,
   "source": [
    "def player_input():\r\n",
    "    \r\n",
    "    player_piece = 'incorrect'\r\n",
    "    \r\n",
    "    while player_piece not in ['X', 'O']:\r\n",
    "        player_piece = input(\"Player 1, would you like to be X or O: \").upper()\r\n",
    "    #print(player_piece)\r\n",
    "    if player_piece == 'X':\r\n",
    "        return ('X', 'O')\r\n",
    "    else:\r\n",
    "        return ('O','X')"
   ],
   "outputs": [],
   "metadata": {
    "collapsed": true
   }
  },
  {
   "cell_type": "markdown",
   "source": [
    "**TEST Step 2:** run the function to make sure it returns the desired output"
   ],
   "metadata": {}
  },
  {
   "cell_type": "code",
   "execution_count": 40,
   "source": [
    "player_input()"
   ],
   "outputs": [
    {
     "output_type": "execute_result",
     "data": {
      "text/plain": [
       "('X', 'O')"
      ]
     },
     "metadata": {},
     "execution_count": 40
    }
   ],
   "metadata": {
    "collapsed": true
   }
  },
  {
   "cell_type": "markdown",
   "source": [
    "**Step 3: Write a function that takes in the board list object, a marker ('X' or 'O'), and a desired position (number 1-9) and assigns it to the board.**"
   ],
   "metadata": {}
  },
  {
   "cell_type": "code",
   "execution_count": 41,
   "source": [
    "def place_marker(board, marker, position):\r\n",
    "    '''updated_board = board\r\n",
    "    updated_board[position] = marker\r\n",
    "    return updated_board'''\r\n",
    "    board[position] = marker"
   ],
   "outputs": [],
   "metadata": {
    "collapsed": true
   }
  },
  {
   "cell_type": "markdown",
   "source": [
    "**TEST Step 3:** run the place marker function using test parameters and display the modified board"
   ],
   "metadata": {}
  },
  {
   "cell_type": "code",
   "execution_count": 42,
   "source": [
    "place_marker(test_board,'$',8)\r\n",
    "display_board(test_board)"
   ],
   "outputs": [
    {
     "output_type": "stream",
     "name": "stdout",
     "text": [
      "  X  |  $  |  X\n",
      "----------------\n",
      "  O  |  X  |  O\n",
      "----------------\n",
      "  X  |  O  |  X\n"
     ]
    }
   ],
   "metadata": {
    "collapsed": true
   }
  },
  {
   "cell_type": "markdown",
   "source": [
    "**Step 4: Write a function that takes in a board and a mark (X or O) and then checks to see if that mark has won. **"
   ],
   "metadata": {}
  },
  {
   "cell_type": "code",
   "execution_count": 43,
   "source": [
    "def win_check(board, mark):\r\n",
    "    return((board[1] == board[2] == board[3] == mark) or # bottom row\r\n",
    "    (board[4] == board[5] == board[6] == mark) or # middle row\r\n",
    "    (board[7] == board[8] == board[9] == mark) or # top row\r\n",
    "    (board[1] == board[4] == board[7] == mark) or # left column\r\n",
    "    (board[2] == board[5] == board[8] == mark) or # middle column\r\n",
    "    (board[3] == board[6] == board[9] == mark) or # right column\r\n",
    "    (board[7] == board[5] == board[6] == mark) or # tl to br diagonal\r\n",
    "    (board[9] == board[5] == board[1] == mark)) #bl to tr diagonal"
   ],
   "outputs": [],
   "metadata": {
    "collapsed": true
   }
  },
  {
   "cell_type": "markdown",
   "source": [
    "**TEST Step 4:** run the win_check function against our test_board - it should return True"
   ],
   "metadata": {}
  },
  {
   "cell_type": "code",
   "execution_count": 44,
   "source": [
    "win_check(test_board,'X')"
   ],
   "outputs": [
    {
     "output_type": "execute_result",
     "data": {
      "text/plain": [
       "True"
      ]
     },
     "metadata": {},
     "execution_count": 44
    }
   ],
   "metadata": {
    "collapsed": true
   }
  },
  {
   "cell_type": "markdown",
   "source": [
    "**Step 5: Write a function that uses the random module to randomly decide which player goes first. You may want to lookup random.randint() Return a string of which player went first.**"
   ],
   "metadata": {}
  },
  {
   "cell_type": "code",
   "execution_count": 45,
   "source": [
    "import random\r\n",
    "\r\n",
    "def choose_first():\r\n",
    "    if random.randint(0, 1) == 0:\r\n",
    "        return(\"Player 1\")\r\n",
    "    else:\r\n",
    "        return(\"Player 2\")"
   ],
   "outputs": [],
   "metadata": {
    "collapsed": true
   }
  },
  {
   "cell_type": "markdown",
   "source": [
    "**Step 6: Write a function that returns a boolean indicating whether a space on the board is freely available.**"
   ],
   "metadata": {}
  },
  {
   "cell_type": "code",
   "execution_count": 46,
   "source": [
    "def space_check(board, position):\r\n",
    "    return (board[position] == ' ')"
   ],
   "outputs": [],
   "metadata": {
    "collapsed": true
   }
  },
  {
   "cell_type": "markdown",
   "source": [
    "**Step 7: Write a function that checks if the board is full and returns a boolean value. True if full, False otherwise.**"
   ],
   "metadata": {}
  },
  {
   "cell_type": "code",
   "execution_count": 47,
   "source": [
    "def full_board_check(board):\r\n",
    "    \r\n",
    "    for x in range(1,len(board)):\r\n",
    "        if (board[x] == ' '):\r\n",
    "            return False\r\n",
    "    return True\r\n",
    "\r\n",
    "\r\n",
    "#full_board_check(test_board)"
   ],
   "outputs": [],
   "metadata": {
    "collapsed": true
   }
  },
  {
   "cell_type": "markdown",
   "source": [
    "**Step 8: Write a function that asks for a player's next position (as a number 1-9) and then uses the function from step 6 to check if it's a free position. If it is, then return the position for later use.**"
   ],
   "metadata": {}
  },
  {
   "cell_type": "code",
   "execution_count": 48,
   "source": [
    "def player_choice(board):\r\n",
    "    \r\n",
    "    player_input = 0\r\n",
    "\r\n",
    "    while player_input not in [1, 2, 3, 4, 5, 6, 7, 8, 9] or not space_check(board, player_input):\r\n",
    "        player_input = int(input(\"Choose your next position, 1 - 9\"))\r\n",
    "    return player_input"
   ],
   "outputs": [],
   "metadata": {
    "collapsed": true
   }
  },
  {
   "cell_type": "markdown",
   "source": [
    "**Step 9: Write a function that asks the player if they want to play again and returns a boolean True if they do want to play again.**"
   ],
   "metadata": {}
  },
  {
   "cell_type": "code",
   "execution_count": 49,
   "source": [
    "def replay():\r\n",
    "    replay_check = 'incorrect'\r\n",
    "    while replay_check not in ('Y', 'N'):\r\n",
    "        replay_check = input(\"Would you like to play again? Y or N: \").upper()\r\n",
    "    return (replay_check == 'Y')\r\n",
    "\r\n",
    "#replay()"
   ],
   "outputs": [],
   "metadata": {
    "collapsed": true
   }
  },
  {
   "cell_type": "code",
   "execution_count": null,
   "source": [
    "def player_turn(board, turn):\r\n",
    "     display_board(board)\r\n",
    "     position\r\n",
    "    pass"
   ],
   "outputs": [],
   "metadata": {}
  },
  {
   "cell_type": "markdown",
   "source": [
    "**Step 10: Here comes the hard part! Use while loops and the functions you've made to run the game!**"
   ],
   "metadata": {
    "collapsed": true
   }
  },
  {
   "cell_type": "code",
   "execution_count": 54,
   "source": [
    "print('Welcome to Tic Tac Toe!')\r\n",
    "\r\n",
    "while True:\r\n",
    "    # Set the game up here\r\n",
    "    game_board = [' '] * 10\r\n",
    "    player1_marker, player2_marker = player_input()\r\n",
    "    turn = choose_first()\r\n",
    "    print(f\"Randomly picking turn order... {turn} will go first!\")\r\n",
    "    print(f'Player 1: {player1_marker} | Player 2: {player2_marker}')\r\n",
    "    \r\n",
    "    play_game = 'incorrect'\r\n",
    "    while play_game not in ('Y', 'N'):\r\n",
    "        play_game = input('Are these choices ok and are you ready to begin? Y or N: ').upper()\r\n",
    "    \r\n",
    "    if play_game == 'N':\r\n",
    "        print(\"Return to start...\")\r\n",
    "        game_on = False\r\n",
    "        continue\r\n",
    "    print('Game ON!')\r\n",
    "    game_on = True\r\n",
    "    while (game_on):\r\n",
    "       player_turn(game_board, turn)\r\n",
    "    break\r\n",
    "\r\n",
    "    #while game_on:\r\n",
    "        #Player 1 Turn\r\n",
    "        \r\n",
    "        \r\n",
    "        # Player2's turn.\r\n",
    "            \r\n",
    "            #pass\r\n",
    "\r\n",
    "    #if not replay():\r\n",
    "        #break"
   ],
   "outputs": [
    {
     "output_type": "stream",
     "name": "stdout",
     "text": [
      "Welcome to Tic Tac Toe!\n",
      "Randomly picking turn order... Player 1 will go first!\n",
      "Player 1: X Player 2: O\n",
      "Return to start...\n",
      "Randomly picking turn order... Player 1 will go first!\n",
      "Player 1: O Player 2: X\n",
      "Return to start...\n",
      "Randomly picking turn order... Player 2 will go first!\n",
      "Player 1: O Player 2: X\n",
      "Game ON\n"
     ]
    }
   ],
   "metadata": {
    "collapsed": true
   }
  },
  {
   "cell_type": "markdown",
   "source": [
    "## Good Job!"
   ],
   "metadata": {
    "collapsed": true
   }
  },
  {
   "cell_type": "markdown",
   "source": [],
   "metadata": {}
  }
 ],
 "metadata": {
  "kernelspec": {
   "name": "python3",
   "display_name": "Python 3.8.8 64-bit ('base': conda)"
  },
  "language_info": {
   "codemirror_mode": {
    "name": "ipython",
    "version": 3
   },
   "file_extension": ".py",
   "mimetype": "text/x-python",
   "name": "python",
   "nbconvert_exporter": "python",
   "pygments_lexer": "ipython3",
   "version": "3.8.8"
  },
  "interpreter": {
   "hash": "b3ba2566441a7c06988d0923437866b63cedc61552a5af99d1f4fb67d367b25f"
  }
 },
 "nbformat": 4,
 "nbformat_minor": 1
}