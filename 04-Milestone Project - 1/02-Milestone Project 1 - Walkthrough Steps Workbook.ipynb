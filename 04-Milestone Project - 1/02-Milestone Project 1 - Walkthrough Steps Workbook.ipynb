{
 "cells": [
  {
   "cell_type": "markdown",
   "source": [
    "___\n",
    "\n",
    "<a href='https://www.udemy.com/user/joseportilla/'><img src='../Pierian_Data_Logo.png'/></a>\n",
    "___\n",
    "<center><em>Content Copyright by Pierian Data</em></center>"
   ],
   "metadata": {}
  },
  {
   "cell_type": "markdown",
   "source": [
    "# Milestone Project 1: Walkthrough Steps Workbook\n",
    "\n",
    "Below is a set of steps for you to follow to try to create the Tic Tac Toe Milestone Project game!"
   ],
   "metadata": {}
  },
  {
   "cell_type": "markdown",
   "source": [
    "#### Some suggested tools before you get started:\n",
    "To take input from a user:\n",
    "\n",
    "    player1 = input(\"Please pick a marker 'X' or 'O'\")\n",
    "    \n",
    "Note that input() takes in a string. If you need an integer value, use\n",
    "\n",
    "    position = int(input('Please enter a number'))\n",
    "    \n",
    "<br>To clear the screen between moves:\n",
    "\n",
    "    from IPython.display import clear_output\n",
    "    clear_output()\n",
    "    \n",
    "Note that clear_output() will only work in jupyter. To clear the screen in other IDEs, consider:\n",
    "\n",
    "    print('\\n'*100)\n",
    "    \n",
    "This scrolls the previous board up out of view. Now on to the program!"
   ],
   "metadata": {}
  },
  {
   "cell_type": "markdown",
   "source": [
    "**Step 1: Write a function that can print out a board. Set up your board as a list, where each index 1-9 corresponds with a number on a number pad, so you get a 3 by 3 board representation.**"
   ],
   "metadata": {}
  },
  {
   "cell_type": "code",
   "execution_count": 129,
   "source": [
    "from IPython.display import clear_output\r\n",
    "\r\n",
    "def display_board(board):\r\n",
    "    '''\r\n",
    "    game_board = {}\r\n",
    "    game_board['upper_row'] = []\r\n",
    "    game_board['middle_row'] = []\r\n",
    "    game_board['lower_row'] = []\r\n",
    "\r\n",
    "    for cell in range(len(board)):\r\n",
    "        if cell in [7,8,9]:\r\n",
    "            game_board['upper_row'].append(board[cell])\r\n",
    "        if cell in [3, 4, 5]:\r\n",
    "            game_board['middle_row'].append(board[cell])\r\n",
    "        if cell in [1, 2, 3]:\r\n",
    "            game_board['lower_row'].append(board[cell])\r\n",
    "    print (game_board['upper_row'])\r\n",
    "    print (game_board['middle_row'])\r\n",
    "    print (game_board['lower_row'])\r\n",
    "    #print(game_board)\r\n",
    "    '''\r\n",
    "    print(' ', board[7]\r\n",
    "    , ' | ',board[8], ' | ', board[9])\r\n",
    "    print(\"----------------\")\r\n",
    "    print(' ', board[4]\r\n",
    "    , ' | ',board[5], ' | ', board[6])\r\n",
    "    print(\"----------------\")\r\n",
    "    print(' ', board[1]\r\n",
    "    , ' | ',board[2], ' | ', board[3])"
   ],
   "outputs": [],
   "metadata": {
    "collapsed": true
   }
  },
  {
   "cell_type": "markdown",
   "source": [
    "**TEST Step 1:** run your function on a test version of the board list, and make adjustments as necessary"
   ],
   "metadata": {}
  },
  {
   "cell_type": "code",
   "execution_count": 130,
   "source": [
    "test_board = ['#','X','O','X','O','X','O','X','O','X']\r\n",
    "display_board(test_board)"
   ],
   "outputs": [
    {
     "output_type": "stream",
     "name": "stdout",
     "text": [
      "  X  |  O  |  X\n",
      "----------------\n",
      "  O  |  X  |  O\n",
      "----------------\n",
      "  X  |  O  |  X\n"
     ]
    }
   ],
   "metadata": {
    "collapsed": true
   }
  },
  {
   "cell_type": "markdown",
   "source": [
    "**Step 2: Write a function that can take in a player input and assign their marker as 'X' or 'O'. Think about using *while* loops to continually ask until you get a correct answer.**"
   ],
   "metadata": {}
  },
  {
   "cell_type": "code",
   "execution_count": 131,
   "source": [
    "def player_input():\r\n",
    "    \r\n",
    "    player_piece = 'incorrect'\r\n",
    "    \r\n",
    "    while player_piece not in ['X', 'O']:\r\n",
    "        player_piece = input(\"Player 1, would you like to be X or O: \").upper()\r\n",
    "    #print(player_piece)\r\n",
    "    if player_piece == 'X':\r\n",
    "        return ('X', 'O')\r\n",
    "    else:\r\n",
    "        return ('O','X')"
   ],
   "outputs": [],
   "metadata": {
    "collapsed": true
   }
  },
  {
   "cell_type": "markdown",
   "source": [
    "**TEST Step 2:** run the function to make sure it returns the desired output"
   ],
   "metadata": {}
  },
  {
   "cell_type": "code",
   "execution_count": 132,
   "source": [
    "#player_input()\r\n",
    "\r\n"
   ],
   "outputs": [],
   "metadata": {
    "collapsed": true
   }
  },
  {
   "cell_type": "markdown",
   "source": [
    "**Step 3: Write a function that takes in the board list object, a marker ('X' or 'O'), and a desired position (number 1-9) and assigns it to the board.**"
   ],
   "metadata": {}
  },
  {
   "cell_type": "code",
   "execution_count": 133,
   "source": [
    "def place_marker(board, marker, position):\r\n",
    "    '''updated_board = board\r\n",
    "    updated_board[position] = marker\r\n",
    "    return updated_board'''\r\n",
    "    board[position] = marker"
   ],
   "outputs": [],
   "metadata": {
    "collapsed": true
   }
  },
  {
   "cell_type": "markdown",
   "source": [
    "**TEST Step 3:** run the place marker function using test parameters and display the modified board"
   ],
   "metadata": {}
  },
  {
   "cell_type": "code",
   "execution_count": 134,
   "source": [
    "place_marker(test_board,'$',8)\r\n",
    "display_board(test_board)"
   ],
   "outputs": [
    {
     "output_type": "stream",
     "name": "stdout",
     "text": [
      "  X  |  $  |  X\n",
      "----------------\n",
      "  O  |  X  |  O\n",
      "----------------\n",
      "  X  |  O  |  X\n"
     ]
    }
   ],
   "metadata": {
    "collapsed": true
   }
  },
  {
   "cell_type": "markdown",
   "source": [
    "**Step 4: Write a function that takes in a board and a mark (X or O) and then checks to see if that mark has won. **"
   ],
   "metadata": {}
  },
  {
   "cell_type": "code",
   "execution_count": 135,
   "source": [
    "def win_check(board, mark):\r\n",
    "    return((board[1] == board[2] == board[3] == mark) or # bottom row\r\n",
    "    (board[4] == board[5] == board[6] == mark) or # middle row\r\n",
    "    (board[7] == board[8] == board[9] == mark) or # top row\r\n",
    "    (board[1] == board[4] == board[7] == mark) or # left column\r\n",
    "    (board[2] == board[5] == board[8] == mark) or # middle column\r\n",
    "    (board[3] == board[6] == board[9] == mark) or # right column\r\n",
    "    (board[7] == board[5] == board[6] == mark) or # tl to br diagonal\r\n",
    "    (board[9] == board[5] == board[1] == mark)) #bl to tr diagonal"
   ],
   "outputs": [],
   "metadata": {
    "collapsed": true
   }
  },
  {
   "cell_type": "markdown",
   "source": [
    "**TEST Step 4:** run the win_check function against our test_board - it should return True"
   ],
   "metadata": {}
  },
  {
   "cell_type": "code",
   "execution_count": 136,
   "source": [
    "win_check(test_board,'X')"
   ],
   "outputs": [
    {
     "output_type": "execute_result",
     "data": {
      "text/plain": [
       "True"
      ]
     },
     "metadata": {},
     "execution_count": 136
    }
   ],
   "metadata": {
    "collapsed": true
   }
  },
  {
   "cell_type": "markdown",
   "source": [
    "**Step 5: Write a function that uses the random module to randomly decide which player goes first. You may want to lookup random.randint() Return a string of which player went first.**"
   ],
   "metadata": {}
  },
  {
   "cell_type": "code",
   "execution_count": 137,
   "source": [
    "import random\r\n",
    "\r\n",
    "def choose_first():\r\n",
    "    if random.randint(0, 1) == 0:\r\n",
    "        return(\"Player 1\")\r\n",
    "    else:\r\n",
    "        return(\"Player 2\")"
   ],
   "outputs": [],
   "metadata": {
    "collapsed": true
   }
  },
  {
   "cell_type": "markdown",
   "source": [
    "**Step 6: Write a function that returns a boolean indicating whether a space on the board is freely available.**"
   ],
   "metadata": {}
  },
  {
   "cell_type": "code",
   "execution_count": 138,
   "source": [
    "def space_check(board, position):\r\n",
    "    return (board[position] == ' ')"
   ],
   "outputs": [],
   "metadata": {
    "collapsed": true
   }
  },
  {
   "cell_type": "markdown",
   "source": [
    "**Step 7: Write a function that checks if the board is full and returns a boolean value. True if full, False otherwise.**"
   ],
   "metadata": {}
  },
  {
   "cell_type": "code",
   "execution_count": 139,
   "source": [
    "def full_board_check(board):\r\n",
    "    \r\n",
    "    for x in range(1,len(board)):\r\n",
    "        if (board[x] == ' '):\r\n",
    "            return False\r\n",
    "    return True\r\n",
    "\r\n",
    "\r\n",
    "#full_board_check(test_board)"
   ],
   "outputs": [],
   "metadata": {
    "collapsed": true
   }
  },
  {
   "cell_type": "markdown",
   "source": [
    "**Step 8: Write a function that asks for a player's next position (as a number 1-9) and then uses the function from step 6 to check if it's a free position. If it is, then return the position for later use.**"
   ],
   "metadata": {}
  },
  {
   "cell_type": "code",
   "execution_count": 140,
   "source": [
    "def player_choice(board):\r\n",
    "    \r\n",
    "    player_input = 0\r\n",
    "\r\n",
    "    while player_input not in [1, 2, 3, 4, 5, 6, 7, 8, 9] or not space_check(board, player_input):\r\n",
    "        player_input = int(input(\"Choose your next position, 1 - 9\"))\r\n",
    "    return player_input"
   ],
   "outputs": [],
   "metadata": {
    "collapsed": true
   }
  },
  {
   "cell_type": "markdown",
   "source": [
    "**Step 9: Write a function that asks the player if they want to play again and returns a boolean True if they do want to play again.**"
   ],
   "metadata": {}
  },
  {
   "cell_type": "code",
   "execution_count": 141,
   "source": [
    "def replay():\r\n",
    "    replay_check = 'incorrect'\r\n",
    "    while replay_check not in ('Y', 'N'):\r\n",
    "        replay_check = input(\"Would you like to play again? Y or N: \").upper()\r\n",
    "    return (replay_check == 'Y')\r\n",
    "\r\n",
    "#replay()"
   ],
   "outputs": [],
   "metadata": {
    "collapsed": true
   }
  },
  {
   "cell_type": "code",
   "execution_count": 144,
   "source": [
    "def player_turn(board, player_mark, current_player):\r\n",
    "     display_board(board)\r\n",
    "     position = player_choice(board)\r\n",
    "     place_marker(board, place_marker, position)\r\n",
    "\r\n",
    "     if win_check(board, player_mark):\r\n",
    "          display_board(board)\r\n",
    "          print(f\"{current_player} is the winner!\")\r\n",
    "          game_on = False\r\n",
    "     else:\r\n",
    "          if full_board_check(board):\r\n",
    "               display_board(board)\r\n",
    "               print(\"The game is a draw.\")\r\n",
    "               game_on = False\r\n",
    "          else:\r\n",
    "               if current_player == 'Player 1':\r\n",
    "                    turn = 'Player 2'\r\n",
    "               else:\r\n",
    "                    turn = 'Player 1'"
   ],
   "outputs": [],
   "metadata": {}
  },
  {
   "cell_type": "markdown",
   "source": [
    "**Step 10: Here comes the hard part! Use while loops and the functions you've made to run the game!**"
   ],
   "metadata": {
    "collapsed": true
   }
  },
  {
   "cell_type": "code",
   "execution_count": 145,
   "source": [
    "print('Welcome to Tic Tac Toe!')\r\n",
    "\r\n",
    "while True:\r\n",
    "    # Set the game up here\r\n",
    "    game_board = [' '] * 10\r\n",
    "    player1_marker, player2_marker = player_input()\r\n",
    "    turn = choose_first()\r\n",
    "    print(f\"Randomly picking turn order... {turn} will go first!\")\r\n",
    "    print(f'Player 1: {player1_marker} | Player 2: {player2_marker}')\r\n",
    "    \r\n",
    "    play_game = 'incorrect'\r\n",
    "    while play_game not in ('Y', 'N'):\r\n",
    "        play_game = input('Are these choices ok and are you ready to begin? Y or N: ').upper()\r\n",
    "    \r\n",
    "    if play_game == 'N':\r\n",
    "        print(\"Return to start...\")\r\n",
    "        game_on = False\r\n",
    "        continue\r\n",
    "    print('Game ON!')\r\n",
    "    game_on = True\r\n",
    "    while (game_on):\r\n",
    "        print(f\"{turn}'s turn!\")\r\n",
    "        if turn == 'Player 1':\r\n",
    "            player_turn(game_board, player1_marker, turn)\r\n",
    "        else:\r\n",
    "            player_turn(game_board, player2_marker, turn)\r\n",
    "    #while game_on:\r\n",
    "        #Player 1 Turn\r\n",
    "        \r\n",
    "        \r\n",
    "        # Player2's turn.\r\n",
    "            \r\n",
    "            #pass\r\n",
    "\r\n",
    "    if not replay():\r\n",
    "        break"
   ],
   "outputs": [
    {
     "output_type": "stream",
     "name": "stdout",
     "text": [
      "Welcome to Tic Tac Toe!\n",
      "Randomly picking turn order... Player 1 will go first!\n",
      "Player 1: O | Player 2: X\n",
      "Game ON!\n",
      "Player 1's turn!\n",
      "     |     |   \n",
      "----------------\n",
      "     |     |   \n",
      "----------------\n",
      "     |     |   \n",
      "Player 1's turn!\n",
      "     |     |   \n",
      "----------------\n",
      "     |     |   \n",
      "----------------\n",
      "  <function place_marker at 0x0000019D7C97BB80>  |     |   \n",
      "Player 1's turn!\n",
      "     |     |   \n",
      "----------------\n",
      "     |     |   \n",
      "----------------\n",
      "  <function place_marker at 0x0000019D7C97BB80>  |  <function place_marker at 0x0000019D7C97BB80>  |   \n",
      "Player 1's turn!\n",
      "     |     |   \n",
      "----------------\n",
      "     |     |   \n",
      "----------------\n",
      "  <function place_marker at 0x0000019D7C97BB80>  |  <function place_marker at 0x0000019D7C97BB80>  |  <function place_marker at 0x0000019D7C97BB80>\n",
      "Player 1's turn!\n",
      "     |     |   \n",
      "----------------\n",
      "  <function place_marker at 0x0000019D7C97BB80>  |     |   \n",
      "----------------\n",
      "  <function place_marker at 0x0000019D7C97BB80>  |  <function place_marker at 0x0000019D7C97BB80>  |  <function place_marker at 0x0000019D7C97BB80>\n",
      "Player 1's turn!\n",
      "     |     |   \n",
      "----------------\n",
      "  <function place_marker at 0x0000019D7C97BB80>  |  <function place_marker at 0x0000019D7C97BB80>  |   \n",
      "----------------\n",
      "  <function place_marker at 0x0000019D7C97BB80>  |  <function place_marker at 0x0000019D7C97BB80>  |  <function place_marker at 0x0000019D7C97BB80>\n"
     ]
    },
    {
     "output_type": "error",
     "ename": "KeyboardInterrupt",
     "evalue": "Interrupted by user",
     "traceback": [
      "\u001b[1;31m---------------------------------------------------------------------------\u001b[0m",
      "\u001b[1;31mKeyboardInterrupt\u001b[0m                         Traceback (most recent call last)",
      "\u001b[1;32m<ipython-input-145-9c04c3cd57eb>\u001b[0m in \u001b[0;36m<module>\u001b[1;34m\u001b[0m\n\u001b[0;32m     22\u001b[0m         \u001b[0mprint\u001b[0m\u001b[1;33m(\u001b[0m\u001b[1;34mf\"{turn}'s turn!\"\u001b[0m\u001b[1;33m)\u001b[0m\u001b[1;33m\u001b[0m\u001b[1;33m\u001b[0m\u001b[0m\n\u001b[0;32m     23\u001b[0m         \u001b[1;32mif\u001b[0m \u001b[0mturn\u001b[0m \u001b[1;33m==\u001b[0m \u001b[1;34m'Player 1'\u001b[0m\u001b[1;33m:\u001b[0m\u001b[1;33m\u001b[0m\u001b[1;33m\u001b[0m\u001b[0m\n\u001b[1;32m---> 24\u001b[1;33m             \u001b[0mplayer_turn\u001b[0m\u001b[1;33m(\u001b[0m\u001b[0mgame_board\u001b[0m\u001b[1;33m,\u001b[0m \u001b[0mplayer1_marker\u001b[0m\u001b[1;33m,\u001b[0m \u001b[0mturn\u001b[0m\u001b[1;33m)\u001b[0m\u001b[1;33m\u001b[0m\u001b[1;33m\u001b[0m\u001b[0m\n\u001b[0m\u001b[0;32m     25\u001b[0m         \u001b[1;32melse\u001b[0m\u001b[1;33m:\u001b[0m\u001b[1;33m\u001b[0m\u001b[1;33m\u001b[0m\u001b[0m\n\u001b[0;32m     26\u001b[0m             \u001b[0mplayer_turn\u001b[0m\u001b[1;33m(\u001b[0m\u001b[0mgame_board\u001b[0m\u001b[1;33m,\u001b[0m \u001b[0mplayer2_marker\u001b[0m\u001b[1;33m,\u001b[0m \u001b[0mturn\u001b[0m\u001b[1;33m)\u001b[0m\u001b[1;33m\u001b[0m\u001b[1;33m\u001b[0m\u001b[0m\n",
      "\u001b[1;32m<ipython-input-144-290f367adcc3>\u001b[0m in \u001b[0;36mplayer_turn\u001b[1;34m(board, player_mark, current_player)\u001b[0m\n\u001b[0;32m      1\u001b[0m \u001b[1;32mdef\u001b[0m \u001b[0mplayer_turn\u001b[0m\u001b[1;33m(\u001b[0m\u001b[0mboard\u001b[0m\u001b[1;33m,\u001b[0m \u001b[0mplayer_mark\u001b[0m\u001b[1;33m,\u001b[0m \u001b[0mcurrent_player\u001b[0m\u001b[1;33m)\u001b[0m\u001b[1;33m:\u001b[0m\u001b[1;33m\u001b[0m\u001b[1;33m\u001b[0m\u001b[0m\n\u001b[0;32m      2\u001b[0m      \u001b[0mdisplay_board\u001b[0m\u001b[1;33m(\u001b[0m\u001b[0mboard\u001b[0m\u001b[1;33m)\u001b[0m\u001b[1;33m\u001b[0m\u001b[1;33m\u001b[0m\u001b[0m\n\u001b[1;32m----> 3\u001b[1;33m      \u001b[0mposition\u001b[0m \u001b[1;33m=\u001b[0m \u001b[0mplayer_choice\u001b[0m\u001b[1;33m(\u001b[0m\u001b[0mboard\u001b[0m\u001b[1;33m)\u001b[0m\u001b[1;33m\u001b[0m\u001b[1;33m\u001b[0m\u001b[0m\n\u001b[0m\u001b[0;32m      4\u001b[0m      \u001b[0mplace_marker\u001b[0m\u001b[1;33m(\u001b[0m\u001b[0mboard\u001b[0m\u001b[1;33m,\u001b[0m \u001b[0mplace_marker\u001b[0m\u001b[1;33m,\u001b[0m \u001b[0mposition\u001b[0m\u001b[1;33m)\u001b[0m\u001b[1;33m\u001b[0m\u001b[1;33m\u001b[0m\u001b[0m\n\u001b[0;32m      5\u001b[0m \u001b[1;33m\u001b[0m\u001b[0m\n",
      "\u001b[1;32m<ipython-input-140-a8a7142c0cb2>\u001b[0m in \u001b[0;36mplayer_choice\u001b[1;34m(board)\u001b[0m\n\u001b[0;32m      4\u001b[0m \u001b[1;33m\u001b[0m\u001b[0m\n\u001b[0;32m      5\u001b[0m     \u001b[1;32mwhile\u001b[0m \u001b[0mplayer_input\u001b[0m \u001b[1;32mnot\u001b[0m \u001b[1;32min\u001b[0m \u001b[1;33m[\u001b[0m\u001b[1;36m1\u001b[0m\u001b[1;33m,\u001b[0m \u001b[1;36m2\u001b[0m\u001b[1;33m,\u001b[0m \u001b[1;36m3\u001b[0m\u001b[1;33m,\u001b[0m \u001b[1;36m4\u001b[0m\u001b[1;33m,\u001b[0m \u001b[1;36m5\u001b[0m\u001b[1;33m,\u001b[0m \u001b[1;36m6\u001b[0m\u001b[1;33m,\u001b[0m \u001b[1;36m7\u001b[0m\u001b[1;33m,\u001b[0m \u001b[1;36m8\u001b[0m\u001b[1;33m,\u001b[0m \u001b[1;36m9\u001b[0m\u001b[1;33m]\u001b[0m \u001b[1;32mor\u001b[0m \u001b[1;32mnot\u001b[0m \u001b[0mspace_check\u001b[0m\u001b[1;33m(\u001b[0m\u001b[0mboard\u001b[0m\u001b[1;33m,\u001b[0m \u001b[0mplayer_input\u001b[0m\u001b[1;33m)\u001b[0m\u001b[1;33m:\u001b[0m\u001b[1;33m\u001b[0m\u001b[1;33m\u001b[0m\u001b[0m\n\u001b[1;32m----> 6\u001b[1;33m         \u001b[0mplayer_input\u001b[0m \u001b[1;33m=\u001b[0m \u001b[0mint\u001b[0m\u001b[1;33m(\u001b[0m\u001b[0minput\u001b[0m\u001b[1;33m(\u001b[0m\u001b[1;34m\"Choose your next position, 1 - 9\"\u001b[0m\u001b[1;33m)\u001b[0m\u001b[1;33m)\u001b[0m\u001b[1;33m\u001b[0m\u001b[1;33m\u001b[0m\u001b[0m\n\u001b[0m\u001b[0;32m      7\u001b[0m     \u001b[1;32mreturn\u001b[0m \u001b[0mplayer_input\u001b[0m\u001b[1;33m\u001b[0m\u001b[1;33m\u001b[0m\u001b[0m\n",
      "\u001b[1;32mC:\\ProgramData\\Anaconda3\\lib\\site-packages\\ipykernel\\kernelbase.py\u001b[0m in \u001b[0;36mraw_input\u001b[1;34m(self, prompt)\u001b[0m\n\u001b[0;32m    858\u001b[0m                 \u001b[1;34m\"raw_input was called, but this frontend does not support input requests.\"\u001b[0m\u001b[1;33m\u001b[0m\u001b[1;33m\u001b[0m\u001b[0m\n\u001b[0;32m    859\u001b[0m             )\n\u001b[1;32m--> 860\u001b[1;33m         return self._input_request(str(prompt),\n\u001b[0m\u001b[0;32m    861\u001b[0m             \u001b[0mself\u001b[0m\u001b[1;33m.\u001b[0m\u001b[0m_parent_ident\u001b[0m\u001b[1;33m,\u001b[0m\u001b[1;33m\u001b[0m\u001b[1;33m\u001b[0m\u001b[0m\n\u001b[0;32m    862\u001b[0m             \u001b[0mself\u001b[0m\u001b[1;33m.\u001b[0m\u001b[0m_parent_header\u001b[0m\u001b[1;33m,\u001b[0m\u001b[1;33m\u001b[0m\u001b[1;33m\u001b[0m\u001b[0m\n",
      "\u001b[1;32mC:\\ProgramData\\Anaconda3\\lib\\site-packages\\ipykernel\\kernelbase.py\u001b[0m in \u001b[0;36m_input_request\u001b[1;34m(self, prompt, ident, parent, password)\u001b[0m\n\u001b[0;32m    902\u001b[0m             \u001b[1;32mexcept\u001b[0m \u001b[0mKeyboardInterrupt\u001b[0m\u001b[1;33m:\u001b[0m\u001b[1;33m\u001b[0m\u001b[1;33m\u001b[0m\u001b[0m\n\u001b[0;32m    903\u001b[0m                 \u001b[1;31m# re-raise KeyboardInterrupt, to truncate traceback\u001b[0m\u001b[1;33m\u001b[0m\u001b[1;33m\u001b[0m\u001b[1;33m\u001b[0m\u001b[0m\n\u001b[1;32m--> 904\u001b[1;33m                 \u001b[1;32mraise\u001b[0m \u001b[0mKeyboardInterrupt\u001b[0m\u001b[1;33m(\u001b[0m\u001b[1;34m\"Interrupted by user\"\u001b[0m\u001b[1;33m)\u001b[0m \u001b[1;32mfrom\u001b[0m \u001b[1;32mNone\u001b[0m\u001b[1;33m\u001b[0m\u001b[1;33m\u001b[0m\u001b[0m\n\u001b[0m\u001b[0;32m    905\u001b[0m             \u001b[1;32mexcept\u001b[0m \u001b[0mException\u001b[0m \u001b[1;32mas\u001b[0m \u001b[0me\u001b[0m\u001b[1;33m:\u001b[0m\u001b[1;33m\u001b[0m\u001b[1;33m\u001b[0m\u001b[0m\n\u001b[0;32m    906\u001b[0m                 \u001b[0mself\u001b[0m\u001b[1;33m.\u001b[0m\u001b[0mlog\u001b[0m\u001b[1;33m.\u001b[0m\u001b[0mwarning\u001b[0m\u001b[1;33m(\u001b[0m\u001b[1;34m\"Invalid Message:\"\u001b[0m\u001b[1;33m,\u001b[0m \u001b[0mexc_info\u001b[0m\u001b[1;33m=\u001b[0m\u001b[1;32mTrue\u001b[0m\u001b[1;33m)\u001b[0m\u001b[1;33m\u001b[0m\u001b[1;33m\u001b[0m\u001b[0m\n",
      "\u001b[1;31mKeyboardInterrupt\u001b[0m: Interrupted by user"
     ]
    }
   ],
   "metadata": {
    "collapsed": true
   }
  },
  {
   "cell_type": "markdown",
   "source": [
    "## Good Job!"
   ],
   "metadata": {
    "collapsed": true
   }
  },
  {
   "cell_type": "markdown",
   "source": [],
   "metadata": {}
  }
 ],
 "metadata": {
  "kernelspec": {
   "name": "python3",
   "display_name": "Python 3.8.8 64-bit ('base': conda)"
  },
  "language_info": {
   "codemirror_mode": {
    "name": "ipython",
    "version": 3
   },
   "file_extension": ".py",
   "mimetype": "text/x-python",
   "name": "python",
   "nbconvert_exporter": "python",
   "pygments_lexer": "ipython3",
   "version": "3.8.8"
  },
  "interpreter": {
   "hash": "b3ba2566441a7c06988d0923437866b63cedc61552a5af99d1f4fb67d367b25f"
  }
 },
 "nbformat": 4,
 "nbformat_minor": 1
}