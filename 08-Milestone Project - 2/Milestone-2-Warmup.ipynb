{
 "cells": [
  {
   "cell_type": "code",
   "execution_count": 46,
   "source": [
    "# Card Class\r\n",
    "# Suit, Rank, Value\r\n",
    "import random\r\n",
    "\r\n",
    "\r\n",
    "values = {'Two':2, 'Three':3, 'Four':4, 'Five':5, 'Six':6, 'Seven':7, 'Eight':8, \r\n",
    "            'Nine':9, 'Ten':10, 'Jack':11, 'Queen':12, 'King':13, 'Ace':14}\r\n",
    "suits = ('Hearts', 'Diamonds', 'Spades', 'Clubs')\r\n",
    "ranks = ('Two', 'Three', 'Four', 'Five', 'Six', 'Seven', 'Eight', 'Nine', 'Ten', 'Jack', 'Queen', 'King', 'Ace')\r\n"
   ],
   "outputs": [],
   "metadata": {}
  },
  {
   "cell_type": "markdown",
   "source": [
    "class Card()"
   ],
   "metadata": {}
  },
  {
   "cell_type": "code",
   "execution_count": 47,
   "source": [
    "class Card():\r\n",
    "\r\n",
    "    def __init__(self, suit, rank):\r\n",
    "        self.suit = suit\r\n",
    "        self.rank = rank\r\n",
    "        self.value = values[rank]\r\n",
    "\r\n",
    "    def __str__(self) -> str:\r\n",
    "        return self.rank + \" of \" + self.suit"
   ],
   "outputs": [],
   "metadata": {}
  },
  {
   "cell_type": "code",
   "execution_count": 48,
   "source": [
    "three_of_clubs = Card(\"Clubs\", \"Three\")"
   ],
   "outputs": [],
   "metadata": {}
  },
  {
   "cell_type": "code",
   "execution_count": 49,
   "source": [
    "three_of_clubs.value"
   ],
   "outputs": [
    {
     "output_type": "execute_result",
     "data": {
      "text/plain": [
       "3"
      ]
     },
     "metadata": {},
     "execution_count": 49
    }
   ],
   "metadata": {}
  },
  {
   "cell_type": "code",
   "execution_count": 50,
   "source": [
    "two_hearts = Card(\"Hearts\", \"Two\")"
   ],
   "outputs": [],
   "metadata": {}
  },
  {
   "cell_type": "code",
   "execution_count": 51,
   "source": [
    "two_hearts"
   ],
   "outputs": [
    {
     "output_type": "execute_result",
     "data": {
      "text/plain": [
       "<__main__.Card at 0x2e3f4a69b80>"
      ]
     },
     "metadata": {},
     "execution_count": 51
    }
   ],
   "metadata": {}
  },
  {
   "cell_type": "code",
   "execution_count": 52,
   "source": [
    "print(two_hearts)"
   ],
   "outputs": [
    {
     "output_type": "stream",
     "name": "stdout",
     "text": [
      "Two of Hearts\n"
     ]
    }
   ],
   "metadata": {}
  },
  {
   "cell_type": "code",
   "execution_count": 53,
   "source": [
    "two_hearts.rank"
   ],
   "outputs": [
    {
     "output_type": "execute_result",
     "data": {
      "text/plain": [
       "'Two'"
      ]
     },
     "metadata": {},
     "execution_count": 53
    }
   ],
   "metadata": {}
  },
  {
   "cell_type": "code",
   "execution_count": 54,
   "source": [
    "values[two_hearts.rank]"
   ],
   "outputs": [
    {
     "output_type": "execute_result",
     "data": {
      "text/plain": [
       "2"
      ]
     },
     "metadata": {},
     "execution_count": 54
    }
   ],
   "metadata": {}
  },
  {
   "cell_type": "markdown",
   "source": [],
   "metadata": {}
  },
  {
   "cell_type": "code",
   "execution_count": 55,
   "source": [
    "two_hearts.value < three_of_clubs.value"
   ],
   "outputs": [
    {
     "output_type": "execute_result",
     "data": {
      "text/plain": [
       "True"
      ]
     },
     "metadata": {},
     "execution_count": 55
    }
   ],
   "metadata": {}
  },
  {
   "cell_type": "markdown",
   "source": [
    "DECK CLASS"
   ],
   "metadata": {}
  },
  {
   "cell_type": "code",
   "execution_count": 56,
   "source": [
    "class Deck:\r\n",
    "\r\n",
    "    def __init__(self) -> None:\r\n",
    "\r\n",
    "        self.all_cards = []\r\n",
    "\r\n",
    "        for suit in suits:\r\n",
    "            for rank in ranks:\r\n",
    "                #Create the Card Object\r\n",
    "                created_card = Card(suit, rank)\r\n",
    "\r\n",
    "                self.all_cards.append(created_card)\r\n",
    "\r\n",
    "\r\n",
    "    def shuffle(self):\r\n",
    "        random.shuffle(self.all_cards)\r\n",
    "\r\n",
    "\r\n",
    "    def deal_one(self):\r\n",
    "        return self.all_cards.pop()"
   ],
   "outputs": [],
   "metadata": {}
  },
  {
   "cell_type": "code",
   "execution_count": 57,
   "source": [
    "new_deck = Deck()"
   ],
   "outputs": [],
   "metadata": {}
  },
  {
   "cell_type": "code",
   "execution_count": 58,
   "source": [
    "bottom_card = new_deck.all_cards[-1]"
   ],
   "outputs": [],
   "metadata": {}
  },
  {
   "cell_type": "code",
   "execution_count": 59,
   "source": [
    "print(bottom_card)"
   ],
   "outputs": [
    {
     "output_type": "stream",
     "name": "stdout",
     "text": [
      "Ace of Clubs\n"
     ]
    }
   ],
   "metadata": {}
  },
  {
   "cell_type": "code",
   "execution_count": 60,
   "source": [
    "new_deck.shuffle()"
   ],
   "outputs": [],
   "metadata": {}
  },
  {
   "cell_type": "code",
   "execution_count": 61,
   "source": [
    "print(new_deck.all_cards[0])"
   ],
   "outputs": [
    {
     "output_type": "stream",
     "name": "stdout",
     "text": [
      "Seven of Diamonds\n"
     ]
    }
   ],
   "metadata": {}
  },
  {
   "cell_type": "code",
   "execution_count": 62,
   "source": [
    "for card_object in new_deck.all_cards:\r\n",
    "    print(card_object)"
   ],
   "outputs": [
    {
     "output_type": "stream",
     "name": "stdout",
     "text": [
      "Seven of Diamonds\n",
      "Three of Hearts\n",
      "Five of Spades\n",
      "Jack of Clubs\n",
      "Ace of Clubs\n",
      "Four of Spades\n",
      "Ten of Clubs\n",
      "Six of Clubs\n",
      "Eight of Hearts\n",
      "King of Spades\n",
      "Seven of Hearts\n",
      "Two of Diamonds\n",
      "Nine of Diamonds\n",
      "Ten of Diamonds\n",
      "Nine of Clubs\n",
      "Jack of Spades\n",
      "Six of Hearts\n",
      "Ten of Spades\n",
      "Two of Spades\n",
      "Five of Diamonds\n",
      "King of Clubs\n",
      "Two of Hearts\n",
      "Two of Clubs\n",
      "Jack of Hearts\n",
      "King of Diamonds\n",
      "Jack of Diamonds\n",
      "Ace of Spades\n",
      "Four of Diamonds\n",
      "Ace of Hearts\n",
      "Ace of Diamonds\n",
      "Six of Diamonds\n",
      "Eight of Diamonds\n",
      "Eight of Clubs\n",
      "Queen of Hearts\n",
      "Queen of Diamonds\n",
      "King of Hearts\n",
      "Three of Clubs\n",
      "Three of Diamonds\n",
      "Five of Clubs\n",
      "Queen of Spades\n",
      "Eight of Spades\n",
      "Five of Hearts\n",
      "Seven of Clubs\n",
      "Four of Clubs\n",
      "Six of Spades\n",
      "Four of Hearts\n",
      "Three of Spades\n",
      "Seven of Spades\n",
      "Nine of Spades\n",
      "Ten of Hearts\n",
      "Nine of Hearts\n",
      "Queen of Clubs\n"
     ]
    }
   ],
   "metadata": {}
  },
  {
   "cell_type": "code",
   "execution_count": 63,
   "source": [
    "my_list = [1,2,3,4,5]"
   ],
   "outputs": [],
   "metadata": {}
  },
  {
   "cell_type": "code",
   "execution_count": 64,
   "source": [
    "random.shuffle(my_list)"
   ],
   "outputs": [],
   "metadata": {}
  },
  {
   "cell_type": "code",
   "execution_count": 65,
   "source": [
    "my_list"
   ],
   "outputs": [
    {
     "output_type": "execute_result",
     "data": {
      "text/plain": [
       "[5, 2, 4, 1, 3]"
      ]
     },
     "metadata": {},
     "execution_count": 65
    }
   ],
   "metadata": {}
  },
  {
   "cell_type": "code",
   "execution_count": 66,
   "source": [
    "new_deck = Deck()"
   ],
   "outputs": [],
   "metadata": {}
  },
  {
   "cell_type": "code",
   "execution_count": 67,
   "source": [
    "new_deck.shuffle()"
   ],
   "outputs": [],
   "metadata": {}
  },
  {
   "cell_type": "code",
   "execution_count": 68,
   "source": [
    "my_card = new_deck.deal_one()"
   ],
   "outputs": [],
   "metadata": {}
  },
  {
   "cell_type": "code",
   "execution_count": 69,
   "source": [
    "print(my_card)"
   ],
   "outputs": [
    {
     "output_type": "stream",
     "name": "stdout",
     "text": [
      "Six of Clubs\n"
     ]
    }
   ],
   "metadata": {}
  },
  {
   "cell_type": "code",
   "execution_count": 70,
   "source": [
    "len(new_deck.all_cards)"
   ],
   "outputs": [
    {
     "output_type": "execute_result",
     "data": {
      "text/plain": [
       "51"
      ]
     },
     "metadata": {},
     "execution_count": 70
    }
   ],
   "metadata": {}
  },
  {
   "cell_type": "markdown",
   "source": [
    "PLAYER CLASS"
   ],
   "metadata": {}
  },
  {
   "cell_type": "code",
   "execution_count": 71,
   "source": [
    "#player will have self.all_cards\r\n",
    "#cards = ['A', 'B', 'C']\r\n",
    "#cards.pop(0) #pops from first cell\r\n",
    "#cards = ['B', 'C']\r\n",
    "#cards.append(\"W\") # ADD ONE CARD\r\n",
    "#cards = ['B', 'C', 'W']\r\n",
    "#new = [\"X\", \"Z\"]\r\n",
    "#cards.extend(new) # Use this to properly add multiple\r\n",
    "#cards.append(new) # Don't use because list becomes [\"B\", \"C\", [\"X\", \"Z\"]]"
   ],
   "outputs": [],
   "metadata": {}
  },
  {
   "cell_type": "code",
   "execution_count": 72,
   "source": [
    "class Player:\r\n",
    "\r\n",
    "    def __init__(self, name) -> None:\r\n",
    "        self.name = name\r\n",
    "        self.all_cards = []\r\n",
    "\r\n",
    "    def remove_one(self):\r\n",
    "        return self.all_cards.pop(0)\r\n",
    "\r\n",
    "    def add_card(self, new_cards):\r\n",
    "        if type(new_cards) == type([]):\r\n",
    "            self.all_cards.extend(new_cards)\r\n",
    "        else:\r\n",
    "            self.all_cards.append(new_cards)\r\n",
    "\r\n",
    "    def __str__(self) -> str:\r\n",
    "        return(f\"Player {self.name} has {len(self.all_cards)} cards.\")"
   ],
   "outputs": [],
   "metadata": {}
  },
  {
   "cell_type": "code",
   "execution_count": 73,
   "source": [
    "new_player = Player(\"Cody\")"
   ],
   "outputs": [],
   "metadata": {}
  },
  {
   "cell_type": "code",
   "execution_count": 74,
   "source": [
    "print(new_player)"
   ],
   "outputs": [
    {
     "output_type": "stream",
     "name": "stdout",
     "text": [
      "Player Cody has 0 cards.\n"
     ]
    }
   ],
   "metadata": {}
  },
  {
   "cell_type": "code",
   "execution_count": 75,
   "source": [
    "new_player.add_card(my_card)"
   ],
   "outputs": [],
   "metadata": {}
  },
  {
   "cell_type": "code",
   "execution_count": 76,
   "source": [
    "print(new_player)"
   ],
   "outputs": [
    {
     "output_type": "stream",
     "name": "stdout",
     "text": [
      "Player Cody has 1 cards.\n"
     ]
    }
   ],
   "metadata": {}
  },
  {
   "cell_type": "code",
   "execution_count": 77,
   "source": [
    "print(new_player.all_cards[0])"
   ],
   "outputs": [
    {
     "output_type": "stream",
     "name": "stdout",
     "text": [
      "Six of Clubs\n"
     ]
    }
   ],
   "metadata": {}
  },
  {
   "cell_type": "code",
   "execution_count": 78,
   "source": [
    "new_player.add_card([my_card,my_card,my_card])"
   ],
   "outputs": [],
   "metadata": {}
  },
  {
   "cell_type": "code",
   "execution_count": 79,
   "source": [
    "print(new_player)"
   ],
   "outputs": [
    {
     "output_type": "stream",
     "name": "stdout",
     "text": [
      "Player Cody has 4 cards.\n"
     ]
    }
   ],
   "metadata": {}
  },
  {
   "cell_type": "code",
   "execution_count": 80,
   "source": [
    "new_player.remove_one()"
   ],
   "outputs": [
    {
     "output_type": "execute_result",
     "data": {
      "text/plain": [
       "<__main__.Card at 0x2e3f4a5a460>"
      ]
     },
     "metadata": {},
     "execution_count": 80
    }
   ],
   "metadata": {}
  },
  {
   "cell_type": "code",
   "execution_count": 81,
   "source": [
    "print(new_player)"
   ],
   "outputs": [
    {
     "output_type": "stream",
     "name": "stdout",
     "text": [
      "Player Cody has 3 cards.\n"
     ]
    }
   ],
   "metadata": {}
  },
  {
   "cell_type": "markdown",
   "source": [
    "#GAME LOGIC"
   ],
   "metadata": {}
  },
  {
   "cell_type": "markdown",
   "source": [
    "Create 2 players\r\n",
    "split deck between players\r\n",
    "Set game_on\r\n",
    "while game_on loop:\r\n",
    "    check for loss\r\n",
    "    while at_war\r\n",
    "        give winner all cards\r\n"
   ],
   "metadata": {}
  },
  {
   "cell_type": "code",
   "execution_count": 86,
   "source": [
    "#GAME SETUP\r\n",
    "player_one = Player(\"One\")\r\n",
    "player_two = Player(\"Two\")\r\n",
    "\r\n",
    "new_deck = Deck()\r\n",
    "new_deck.shuffle()\r\n",
    "\r\n",
    "for x in range(26):\r\n",
    "    player_one.add_card(new_deck.deal_one())\r\n",
    "    player_two.add_card(new_deck.deal_one())"
   ],
   "outputs": [],
   "metadata": {}
  },
  {
   "cell_type": "code",
   "execution_count": 87,
   "source": [
    "game_on = True"
   ],
   "outputs": [],
   "metadata": {}
  },
  {
   "cell_type": "code",
   "execution_count": 88,
   "source": [
    "round_num = 0\r\n",
    "while game_on:\r\n",
    "    round_num += 1\r\n",
    "    print(f\"Round {round_num}\")\r\n",
    "\r\n",
    "    if len(player_one.all_cards) == 0:\r\n",
    "        print(\"Player One, out of cards! Player Two wins!\")\r\n",
    "        game_on = False\r\n",
    "        break\r\n",
    "    if len(player_two.all_cards) == 0:\r\n",
    "        print(\"Player Two, out of cards! Player One wins!\")\r\n",
    "        game_on = False\r\n",
    "        break\r\n",
    "\r\n",
    "    # START A NEW ROUND\r\n",
    "    player_one_cards = []\r\n",
    "    player_one_cards.append(player_one.remove_one())\r\n",
    "\r\n",
    "    player_two_cards = []\r\n",
    "    player_two_cards.append(player_two.remove_one())\r\n",
    "\r\n",
    "    #when at war, each player draws 5\r\n",
    "    at_war = True\r\n",
    "\r\n",
    "    while at_war:\r\n",
    "        if player_one_cards[-1].value > player_two_cards[-1].value:\r\n",
    "            player_one.add_card(player_one_cards)\r\n",
    "            player_one.add_card(player_two_cards)\r\n",
    "            at_war = False\r\n",
    "            break\r\n",
    "        elif player_one_cards[-1].value < player_two_cards[-1].value:\r\n",
    "            player_two.add_card(player_one_cards)\r\n",
    "            player_two.add_card(player_two_cards)\r\n",
    "            at_war = False\r\n",
    "            break\r\n",
    "        else:\r\n",
    "            print('WAR!')\r\n",
    "\r\n",
    "            if len(player_one.all_cards) < 5:\r\n",
    "                print(\"Player One unable to declare war\")\r\n",
    "                print(\"PLAYER TWO WINS!\")\r\n",
    "                game_on = False\r\n",
    "                break\r\n",
    "            elif len(player_two.all_cards) < 5:\r\n",
    "                print(\"Player Two unable to declare war\")\r\n",
    "                print(\"PLAYER ONE WINS!\")\r\n",
    "                game_on = False\r\n",
    "                break\r\n",
    "            else:\r\n",
    "                for num in range(5):\r\n",
    "                    player_one_cards.append(player_one.remove_one())\r\n",
    "                    player_two_cards.append(player_two.remove_one())"
   ],
   "outputs": [
    {
     "output_type": "stream",
     "name": "stdout",
     "text": [
      "Round 1\n",
      "Round 2\n",
      "Round 3\n",
      "Round 4\n",
      "Round 5\n",
      "Round 6\n",
      "Round 7\n",
      "WAR!\n",
      "Round 8\n",
      "Round 9\n",
      "Round 10\n",
      "WAR!\n",
      "WAR!\n",
      "Round 11\n",
      "Round 12\n",
      "Round 13\n",
      "Round 14\n",
      "WAR!\n",
      "Round 15\n",
      "Round 16\n",
      "Round 17\n",
      "Round 18\n",
      "Round 19\n",
      "Round 20\n",
      "Round 21\n",
      "Round 22\n",
      "Round 23\n",
      "WAR!\n",
      "Round 24\n",
      "Player One, out of cards! Player Two wins!\n"
     ]
    }
   ],
   "metadata": {}
  },
  {
   "cell_type": "code",
   "execution_count": null,
   "source": [],
   "outputs": [],
   "metadata": {}
  }
 ],
 "metadata": {
  "orig_nbformat": 4,
  "language_info": {
   "name": "python",
   "version": "3.8.8",
   "mimetype": "text/x-python",
   "codemirror_mode": {
    "name": "ipython",
    "version": 3
   },
   "pygments_lexer": "ipython3",
   "nbconvert_exporter": "python",
   "file_extension": ".py"
  },
  "kernelspec": {
   "name": "python3",
   "display_name": "Python 3.8.8 64-bit ('base': conda)"
  },
  "interpreter": {
   "hash": "b3ba2566441a7c06988d0923437866b63cedc61552a5af99d1f4fb67d367b25f"
  }
 },
 "nbformat": 4,
 "nbformat_minor": 2
}